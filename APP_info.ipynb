{
 "cells": [
  {
   "cell_type": "code",
   "execution_count": 2,
   "metadata": {
    "collapsed": true
   },
   "outputs": [],
   "source": [
    "import urllib2\n",
    "from urlparse import urlparse, parse_qs\n",
    "from bs4 import BeautifulSoup\n",
    "import lxml\n",
    "import csv"
   ]
  },
  {
   "cell_type": "code",
   "execution_count": 22,
   "metadata": {
    "collapsed": true
   },
   "outputs": [],
   "source": [
    "app_list = []"
   ]
  },
  {
   "cell_type": "code",
   "execution_count": 3,
   "metadata": {
    "scrolled": true
   },
   "outputs": [
    {
     "name": "stdout",
     "output_type": "stream",
     "text": [
      "!איה! אאוץ'! אווה\n",
      "Yedioth Information Technologies\n",
      "NT$ 120\n",
      "Books\n",
      "1.02\n",
      "51.8 MB\n",
      "Yedioth Information Technologies LTD.\n",
      "Requires iOS 3.2 or later. Compatible with iPhone, iPad and iPod touch.\n",
      "01 December 2011\n",
      "Hebrew\n",
      "© ידיעות טכנולוגיות מידע \n",
      "במקום סודי, קרוב מאוד לכאן, גרה משפחה מיוחדת: אמא אווה וילדיה איה, אי, אח ואאוץ'. כולם עובדים באותה עבודה: הם מרפאים פצעים. ותאמינו לי, זאת המשפחה הכי עסוקה שראיתי בחיי!ספרם האהוב של הסופרת רינת פרימו והמאייר יניב שמעוני, שהופק גם כהצגת ילדים מקסימה, מגיע עכשיו לאייפד, ובאיכות שעוד לא היכרתם.עמליה וחבריה מתעוררים לחיים וילדיכם יוכלו לגרום להם לרוץ, ליפול, לבכות, לפזר אבקת ריפוי, ליצור תחבושות ולהפעיל את החללית המיוחדת של המשפחה.מלבד משחק הזיכרון, מסתתר לקראת סוף הספר משחק נוסף.קראו, שחקו ותיהנו!מה תמצאו באפליקציית 'איה! אאוץ'! אווה!:•כפתור ''קרא כספר'' – מאפשר קריאה רגילה כמו בספר נייר, אפשרות לקריאה עצמית או לקריינות.•כפתור ''ספר משחק'' – גרסה אינטראקטיבית שבה הדמויות המאוירות מתעוררות לחיים על-ידי אינטרקציית המגע של הילד.•כפתור ''משחק'' - משחק זיכרון עם דמויות מתוך הספר בשלוש רמות קושי.מה ניתן לעשות באפליקציה?•ללחוץ על הדמויות ולגלות מה הן עושות.•לגלות את כל הכפתורים, החלונות וההפתעות בחללית.•לנסות להעלים את כל האחים גם יחד מאחורי גבה של אמא אווה.•להטות את המכשיר ולבדוק מה קורה לדמויות.•ועוד הרבה הפתעות משעשעות.עברית לילדים מציעה חלופה איכותית ומתקדמת לספרים שעליהם גדלנו ושעליהם אנו מגדלים את ילדינו. הקפדנו להישאר נאמנים לרוח הספר, ועם זאת לגרום לילדי הדור הבא ליהנות ממה שהקידמה ומסכי המגע מסוגלים להציע.אנו מקווים שתיהנו מהספר לפחות כמו שאנחנו נהנינו מהכנתו. נשמח מאוד לקבל את תגובותיכם, הערותיכם, ובקשותיכם. אנו מבטיחים להתעדכן כל העת, ומכינים לכם הפתעות רבות נוספות. הקפידו לעקוב אחר העדכונים שלנו. בהמשך יעלו גרסאות נוספות שיכללו אופציה להקלטה עצמית של ההורה, משחקים נוספים ועוד. את הגרסאות הבאות תוכלו להוריד ללא תשלום נוסף.\n",
      "Rated 4+\n",
      "0, not provided\n",
      "0, not provided!\n",
      "Not being required.\n"
     ]
    }
   ],
   "source": [
    "def site_open(site):\n",
    "    app_list = []\n",
    "    req = urllib2.Request(site)\n",
    "        #sets up request object\n",
    "        #adds User-Agent info to request object\n",
    "    req.add_header(\"User-Agent\",\"Mozilla/5.0 (Windows NT 10.0; Win64; x64) AppleWebKit/537.36 (KHTML, like Gecko) Chrome/51.0.2704.79 Safari/537.36 Edge/14.14393\")\n",
    "      #opens up site\n",
    "    website = urllib2.urlopen(req)    \n",
    "  \n",
    "    soup = BeautifulSoup(website, \"html5lib\")\n",
    "    \n",
    "    title = soup.find(id=\"title\").find(\"h1\").text\n",
    "    \n",
    "    dev_get = soup.find(id=\"title\").find(\"h2\").text[3:]\n",
    "    price_get = soup.find(id=\"left-stack\").find(\"ul\").find(\"li\").text\n",
    "    category_get = soup.find(id=\"left-stack\").find(\"ul\").find(\"li\",\"genre\").find(\"a\").text\n",
    "    app_release_date = soup.find(id=\"left-stack\").find(\"ul\").find(\"li\", \"release-date\").text[8:].strip(\" \")\n",
    "    app_version = soup.find(id=\"left-stack\").find(\"ul\").find_all(\"li\")[3].text[9:]\n",
    "    size_get = soup.find(id=\"left-stack\").find(\"ul\").find_all(\"li\")[4].text[6:]\n",
    "    app_language = soup.find(id=\"left-stack\").find(\"ul\").find(\"li\", \"language\").text[10:]\n",
    "    seller_get = soup.find(id=\"left-stack\").find(\"ul\").find_all(\"li\")[6].text[11:]\n",
    "    copyright = soup.find(id=\"left-stack\").find(\"ul\").find(\"li\", \"copyright\").text\n",
    "    app_requirement = soup.find(id=\"left-stack\").find(\"p\").text[15:]\n",
    "    \n",
    "    #discryption\n",
    "    app_description = soup.find(id = \"content\").find_all(\"p\")[1].text\n",
    "    \n",
    "    app_rating = soup.find(\"div\", \"app-rating\").text\n",
    "    \n",
    "    #customer rating(currnet rating)\n",
    "    try:\n",
    "        tag_cur = soup.find(id = \"left-stack\").find(\"div\",\"rating\")\n",
    "        stars_cur = tag_cur['aria-label']\n",
    "    except:\n",
    "        stars_cur = \"0, not provided\"\n",
    "    \n",
    "    #customer rating(all rating)\n",
    "    try:\n",
    "        tag_all = soup.find(id=\"left-stack\").find_all(\"div\",\"rating\")[1]\n",
    "        stars_all = tag_all['aria-label']\n",
    "    except:\n",
    "        stars_all = \"0, not provided!\"\n",
    "    \n",
    "    #In app purchase\n",
    "    try:\n",
    "        rank = soup.find(\"div\", \"extra-list in-app-purchases\").find(\"ol\", \"list\").text\n",
    "    except:\n",
    "        rank = \"Not being required.\"\n",
    "    #customer review\n",
    "    \n",
    "    \n",
    "    app_list.extend([title,dev_get,price_get,category_get, app_version, size_get, \\\n",
    "    seller_get, app_requirement, app_release_date,app_language, \\\n",
    "    copyright, app_description, app_rating, stars_cur, stars_all, rank])\n",
    "    \n",
    "    for i in app_list:\n",
    "        print i\n",
    "site_open('https://itunes.apple.com/tw/app/%D7%90%D7%99%D7%94-%D7%90%D7%90%D7%95%D7%A5-%D7%90%D7%95%D7%95%D7%94/id450482365?mt=8')\n",
    "#site_open('https://itunes.apple.com/tw/app/%E7%AF%80%E5%A5%8F%E5%A4%A7%E7%88%86%E7%82%B8/id1220725191?mt=8&v0=WWW-GCTW-ITSTOP100-FREEAPPS&l=zh&ign-mpt=uo%3D4')\n",
    "\n"
   ]
  },
  {
   "cell_type": "code",
   "execution_count": 127,
   "metadata": {},
   "outputs": [
    {
     "name": "stdout",
     "output_type": "stream",
     "text": [
      "音樂很棒的節奏遊戲\n",
      "4\n",
      "EgoTing33\n",
      "遊戲很好玩但，加入鉑金會員感受不到太大的差別，而且528更新的會員專區完成歌曲會收錄到練習室也沒有耶？\n",
      "\n",
      "會讓人玩上癮啊\n",
      "4\n",
      "宜中7班泓緯好醜\n",
      "有些歌都沒有被放在遊戲裡  希望以後會把其他歌更先進去\n",
      "\n",
      "更新之後爛到爆\n",
      "2\n",
      "BLΛƆKPIИK\n",
      "包括路演爛到靠邀以外練習室的歌進去之後重新開始的選項也消失是怎樣啦\n",
      "\n"
     ]
    }
   ],
   "source": [
    "def customer_review(site):\n",
    "    app_review = []\n",
    "    \n",
    "    req = urllib2.Request(site)\n",
    "    req.add_header(\"User-Agent\",\"Mozilla/5.0 (Windows NT 10.0; Win64; x64) AppleWebKit/537.36 (KHTML, like Gecko) Chrome/51.0.2704.79 Safari/537.36 Edge/14.14393\")\n",
    "    website = urllib2.urlopen(req)\n",
    "    soup = BeautifulSoup(website, \"html5lib\")\n",
    "    \n",
    "    #total_customer = \n",
    "    for i in range(0,3):\n",
    "        comment_title = soup.find(\"div\", \"customer-reviews\").find_all(\"span\", \"customerReviewTitle\")[i].text\n",
    "        comment_rating = soup.find(\"div\", \"customer-reviews\").find_all(\"div\",\"rating\")[i]['aria-label'].strip()[:1]\n",
    "        comment_user = soup.find(\"div\", \"customer-reviews\").find_all(\"span\",\"user-info\")[i].text.strip()[23:]\n",
    "        comment = soup.find(\"div\", \"customer-reviews\").find_all(\"p\", \"content\")[i].text[5:].strip()\n",
    "        \n",
    "        app_review.append(comment_title + \"\\n\" + \\\n",
    "                          comment_rating + \"\\n\" +\\\n",
    "                          comment_user + \"\\n\" +\\\n",
    "                          comment + \"\\n\")\n",
    "    \n",
    "    for j in app_review:\n",
    "        print j\n",
    "    app_list.extend([app_review])        \n",
    "        \n",
    "customer_review('https://itunes.apple.com/tw/app/%E7%AF%80%E5%A5%8F%E5%A4%A7%E7%88%86%E7%82%B8/id1220725191?mt=8&v0=WWW-GCTW-ITSTOP100-FREEAPPS&l=zh&ign-mpt=uo%3D4')"
   ]
  },
  {
   "cell_type": "code",
   "execution_count": 128,
   "metadata": {},
   "outputs": [
    {
     "name": "stdout",
     "output_type": "stream",
     "text": [
      "節奏大爆炸\n",
      "X.D. Network Inc.\n",
      "免費\n",
      "遊戲\n",
      "1.1.30\n",
      "103 MB\n",
      "NDONG (HONG KONG) COMPANY LIMITED\n",
      "需要 iOS 8.0 或以上版本。與 iPhone、iPad 及 iPod touch 相容。\n",
      "2017年05月28日\n",
      "簡體中文, 繁體中文, 英語\n",
      "© XINDONG (HONG KONG)\n",
      "《節奏大爆炸-BeatEVO YG》是YG娛樂唯一正版授權的音樂手遊。玩家在遊戲中變身為經紀人，簽約自己中意的藝人進行培養，并讓藝人出道，同時還可以通過豐富多樣的社交系統跟所有同屬YG FAMILY的粉絲進行交流。所有你們喜歡的YG藝人與歌曲都會在遊戲中出現，包括：BIGBANG(包括solo與FEAT)、GD、T.O.P、勝利、太陽、大聲、iKON、WINNER、2NE1、Epik High、PSY、樂童音樂家、LEE HI、JINUSEAN、BLACKPINK等等。口袋裡的Live Show，讓音樂看得見，讓旋律摸得到。【三屏分區NOTE譜面，簡單不重度】遊戲獨創三屏分區NOTE分佈，結合了高品質的音樂譜面設計，加上多種花樣玩法，使得遊戲演奏有著非常棒的手感及視聽體驗。遊戲畫面帶有濃郁hip-hop金屬混搭風，且YG每位藝人都有符合其特色的專屬皮膚，每嘗試不同的藝人都會帶給你截然不同的感受。【最新最全的音源，免費聽歌】同時為讓遊戲更有帶入感，玩家將化身為明星經紀人，陪伴最愛的偶像參加各種通告路演，而強大的歌曲排行系統和聊天系統更能讓玩家和好友盡情互動PK。除了已收錄YG藝人發表過的歌曲外，遊戲的音源庫與藝人發表新歌即時同步，玩家可以第一時間聽到玩到偶像的最新歌曲。【豐厚的獎勵，殘酷的排行】　每個地區會上演二到四場演出，演出難度分為EZ(基礎)、NM(普通)、HD(專家)。每場演出完成可獲得經紀人經驗、經驗卡等禮品。同時每場演出還有單獨的排名，通過排行榜你可以知道自己在全服裡的實力。※本軟體依遊戲軟體分級管理辦法分類為輔12級※本遊戲角色穿著凸顯性特徵之服飾或裝扮但不涉及性暗示※遊戲提供免費下載和暢玩，但本遊戲部分內容及服務需另行支付費用※為維護您的遊戲權益，請勿相信、使用他人代儲，以免觸法※請注意遊戲時間，避免沉迷\n",
      "分級為 12+，因為內容涉及：偶而/輕微的色情內容與裸露\n",
      "3 顆星, 45 份評分\n",
      "4.5 顆星, 1489 份評分\n",
      "60鑽石NT$ 30鉑金會員NT$ 2401380鑽石NT$ 590180鑽石NT$ 90黃金會員NT$ 150680鑽石NT$ 3003580鑽石NT$ 1,4907280鑽石NT$ 2,990\n",
      "[u'\\u97f3\\u6a02\\u5f88\\u68d2\\u7684\\u7bc0\\u594f\\u904a\\u6232\\n4\\nEgoTing33\\n\\u904a\\u6232\\u5f88\\u597d\\u73a9\\u4f46\\uff0c\\u52a0\\u5165\\u9251\\u91d1\\u6703\\u54e1\\u611f\\u53d7\\u4e0d\\u5230\\u592a\\u5927\\u7684\\u5dee\\u5225\\uff0c\\u800c\\u4e14528\\u66f4\\u65b0\\u7684\\u6703\\u54e1\\u5c08\\u5340\\u5b8c\\u6210\\u6b4c\\u66f2\\u6703\\u6536\\u9304\\u5230\\u7df4\\u7fd2\\u5ba4\\u4e5f\\u6c92\\u6709\\u8036\\uff1f\\n', u'\\u6703\\u8b93\\u4eba\\u73a9\\u4e0a\\u766e\\u554a\\n4\\n\\u5b9c\\u4e2d7\\u73ed\\u6cd3\\u7def\\u597d\\u919c\\n\\u6709\\u4e9b\\u6b4c\\u90fd\\u6c92\\u6709\\u88ab\\u653e\\u5728\\u904a\\u6232\\u88e1  \\u5e0c\\u671b\\u4ee5\\u5f8c\\u6703\\u628a\\u5176\\u4ed6\\u6b4c\\u66f4\\u5148\\u9032\\u53bb\\n', u'\\u66f4\\u65b0\\u4e4b\\u5f8c\\u721b\\u5230\\u7206\\n2\\nBL\\u039b\\u0186KPI\\u0418K\\n\\u5305\\u62ec\\u8def\\u6f14\\u721b\\u5230\\u9760\\u9080\\u4ee5\\u5916\\u7df4\\u7fd2\\u5ba4\\u7684\\u6b4c\\u9032\\u53bb\\u4e4b\\u5f8c\\u91cd\\u65b0\\u958b\\u59cb\\u7684\\u9078\\u9805\\u4e5f\\u6d88\\u5931\\u662f\\u600e\\u6a23\\u5566\\n']\n",
      "http://is5.mzstatic.com/image/thumb/Purple111/v4/25/d5/51/25d5512b-cfad-96e2-31de-083ef3bd7c58/source/175x175bb.jpg\n",
      "[u'http://a5.mzstatic.com/us/r30/Purple117/v4/28/4c/ee/284cee87-9e6b-d3ca-6b66-0aa42414fa7c/screen520x924.jpeg', u'http://a1.mzstatic.com/us/r30/Purple127/v4/98/0d/7b/980d7b6c-da2a-fec6-8de4-d6af8fd2229e/screen520x924.jpeg', u'http://a3.mzstatic.com/us/r30/Purple127/v4/b5/0a/b9/b50ab955-f5c6-bcf5-4ef8-e94f84023064/screen520x924.jpeg', u'http://a5.mzstatic.com/us/r30/Purple117/v4/1b/31/82/1b3182fc-3517-22ef-1c7c-f6d2a6e2a55e/screen520x924.jpeg', u'http://a4.mzstatic.com/us/r30/Purple127/v4/a2/44/0b/a2440ba8-e37e-19d7-d661-f6e847aafbe3/screen520x924.jpeg', u'http://a1.mzstatic.com/us/r30/Purple117/v4/2f/7b/8f/2f7b8f3c-0195-bb09-a82d-f045e0739859/sc552x414.jpeg', u'http://a2.mzstatic.com/us/r30/Purple117/v4/76/2f/85/762f85ec-c7fa-a2f3-3554-5369dc3db2e6/sc552x414.jpeg', u'http://a2.mzstatic.com/us/r30/Purple127/v4/f0/b3/0f/f0b30f51-1476-81cb-3f7b-8760f85534a8/sc552x414.jpeg', u'http://a5.mzstatic.com/us/r30/Purple117/v4/88/ff/6f/88ff6f27-a490-2060-955e-643c6b16b226/sc552x414.jpeg', u'http://a5.mzstatic.com/us/r30/Purple117/v4/c8/85/d0/c885d0ae-bca6-499c-a0da-42d210175990/sc552x414.jpeg']\n"
     ]
    }
   ],
   "source": [
    "def pic(site):\n",
    "    app_picture = []\n",
    "\n",
    "    req = urllib2.Request(site)\n",
    "    req.add_header(\"User-Agent\",\"Mozilla/5.0 (Windows NT 10.0; Win64; x64) AppleWebKit/537.36 (KHTML, like Gecko) Chrome/51.0.2704.79 Safari/537.36 Edge/14.14393\")\n",
    "    website = urllib2.urlopen(req)\n",
    "    soup = BeautifulSoup(website, \"html5lib\")\n",
    "   \n",
    "    cover_photo = soup.find(id = \"left-stack\").find_all(\"div\", \"artwork\")[0].find(\"meta\")['content']\n",
    "    app_list.append(cover_photo)\n",
    "    \n",
    "    number = int(soup.find(\"div\", \"content\")['num-items'])\n",
    "    for i in range(0, number * 2):\n",
    "        picture = soup.find_all(\"div\", \"lockup\")[i].find(\"img\")['src']\n",
    "        app_picture.append(picture)\n",
    "        \n",
    "    app_list.append(app_picture)\n",
    "    \n",
    "pic('https://itunes.apple.com/tw/app/%E7%AF%80%E5%A5%8F%E5%A4%A7%E7%88%86%E7%82%B8/id1220725191?mt=8&v0=WWW-GCTW-ITSTOP100-FREEAPPS&l=zh&ign-mpt=uo%3D4')"
   ]
  },
  {
   "cell_type": "code",
   "execution_count": null,
   "metadata": {
    "collapsed": true
   },
   "outputs": [],
   "source": [
    "def read_in(file):\n",
    "    '''Reads in app store links form the app links file. Returns array.'''\n",
    "    f = open(file, 'rb')\n",
    "    data = f.readlines()\n",
    "    \n",
    "    #return array of list\n",
    "    return data\n",
    "\n",
    "def split_data(data, splits):\n",
    "    '''\n",
    "    Returns an array of arrays [[data1], [data2], ....]\n",
    "    Based on the number of threads the user designates.\n",
    "    This is used for multithreading purpose.\n",
    "    '''\n",
    "    n = round(len(data) / splits)\n",
    "    print (len(data))\n",
    "    \n",
    "    new_data = []\n",
    "    \n",
    "    for i in range(0, splits):\n",
    "        j = data[(i-1) * n : i*n]\n",
    "        new_data.append(j)\n",
    "    return new_data\n",
    "\n",
    "def app_info_crawl(source, output, sleep_time = float, sample_size = None, num_threads = 1):\n",
    "    '''\n",
    "    Takes in Source URLs and outputs App Info\n",
    "\n",
    "    Inputs:\n",
    "\n",
    "    1) source is the name of the input file with the list of urls to crawl\n",
    "    2) output is the name of the output file_name with full app information\n",
    "    3) sleep_time is a float value that indicates pause between site requests.\n",
    "    4) num_threads is the number of threads that the script spawns to speed up process.\n",
    "\n",
    "    Returns X number of csv files with app info, where X is equal to the number\n",
    "    of threads used to grab app info. You can merge them all together in the command line\n",
    "    using the command \"cat *.csv > output_file\"\n",
    "    '''\n",
    "    \n",
    "    #reads in list of apps\n",
    "    data = read_in(source)\n",
    "    \n",
    "    #randomizes data order to get a random sample\n",
    "    shuffle(data)\n",
    "    \n",
    "    #breaks up data into an array of smaller data arrays for multithreading purposes\n",
    "    data = split_data(data, num_threads)"
   ]
  }
 ],
 "metadata": {
  "kernelspec": {
   "display_name": "Python 2",
   "language": "python",
   "name": "python2"
  },
  "language_info": {
   "codemirror_mode": {
    "name": "ipython",
    "version": 2
   },
   "file_extension": ".py",
   "mimetype": "text/x-python",
   "name": "python",
   "nbconvert_exporter": "python",
   "pygments_lexer": "ipython2",
   "version": "2.7.13"
  }
 },
 "nbformat": 4,
 "nbformat_minor": 2
}
